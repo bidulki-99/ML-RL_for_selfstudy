{
  "nbformat": 4,
  "nbformat_minor": 0,
  "metadata": {
    "colab": {
      "name": "Untitled7.ipynb",
      "provenance": [],
      "authorship_tag": "ABX9TyP3etbFyYydj1wgwqqu8IW3",
      "include_colab_link": true
    },
    "kernelspec": {
      "name": "python3",
      "display_name": "Python 3"
    },
    "language_info": {
      "name": "python"
    }
  },
  "cells": [
    {
      "cell_type": "markdown",
      "metadata": {
        "id": "view-in-github",
        "colab_type": "text"
      },
      "source": [
        "<a href=\"https://colab.research.google.com/github/bidulki-99/ML-RL_for_selfstudy/blob/main/Chapter9.ipynb\" target=\"_parent\"><img src=\"https://colab.research.google.com/assets/colab-badge.svg\" alt=\"Open In Colab\"/></a>"
      ]
    },
    {
      "cell_type": "code",
      "execution_count": null,
      "metadata": {
        "id": "5XJi74OCWgZX"
      },
      "outputs": [],
      "source": [
        "from tensorflow.keras.datasets import imdb\n",
        "(train_input, train_target), (test_input, test_target) = imdb.load_data(num_words = 500)"
      ]
    },
    {
      "cell_type": "code",
      "source": [
        "print(train_input.shape, test_input.shape)"
      ],
      "metadata": {
        "colab": {
          "base_uri": "https://localhost:8080/"
        },
        "id": "kvCzpxYrYAEM",
        "outputId": "a0cb087f-0d91-4247-9386-8466d5b1546c"
      },
      "execution_count": null,
      "outputs": [
        {
          "output_type": "stream",
          "name": "stdout",
          "text": [
            "(25000,) (25000,)\n"
          ]
        }
      ]
    },
    {
      "cell_type": "code",
      "source": [
        "print(len(train_input[0]))"
      ],
      "metadata": {
        "colab": {
          "base_uri": "https://localhost:8080/"
        },
        "id": "vjcNCs7_YFD1",
        "outputId": "b931aad1-edf2-4374-df61-55d7df4b5d0a"
      },
      "execution_count": null,
      "outputs": [
        {
          "output_type": "stream",
          "name": "stdout",
          "text": [
            "218\n"
          ]
        }
      ]
    },
    {
      "cell_type": "code",
      "source": [
        "print(len(train_input[1]))"
      ],
      "metadata": {
        "colab": {
          "base_uri": "https://localhost:8080/"
        },
        "id": "Pyl1yZ8eYI8T",
        "outputId": "7d33637c-de07-467b-8ff1-4ea3d43ab6cc"
      },
      "execution_count": null,
      "outputs": [
        {
          "output_type": "stream",
          "name": "stdout",
          "text": [
            "189\n"
          ]
        }
      ]
    },
    {
      "cell_type": "code",
      "source": [
        "print(train_input[0])"
      ],
      "metadata": {
        "colab": {
          "base_uri": "https://localhost:8080/"
        },
        "id": "ghaUceoaYKfz",
        "outputId": "3c8df436-6f8e-42b9-e161-a59275511af6"
      },
      "execution_count": null,
      "outputs": [
        {
          "output_type": "stream",
          "name": "stdout",
          "text": [
            "[1, 14, 22, 16, 43, 2, 2, 2, 2, 65, 458, 2, 66, 2, 4, 173, 36, 256, 5, 25, 100, 43, 2, 112, 50, 2, 2, 9, 35, 480, 284, 5, 150, 4, 172, 112, 167, 2, 336, 385, 39, 4, 172, 2, 2, 17, 2, 38, 13, 447, 4, 192, 50, 16, 6, 147, 2, 19, 14, 22, 4, 2, 2, 469, 4, 22, 71, 87, 12, 16, 43, 2, 38, 76, 15, 13, 2, 4, 22, 17, 2, 17, 12, 16, 2, 18, 2, 5, 62, 386, 12, 8, 316, 8, 106, 5, 4, 2, 2, 16, 480, 66, 2, 33, 4, 130, 12, 16, 38, 2, 5, 25, 124, 51, 36, 135, 48, 25, 2, 33, 6, 22, 12, 215, 28, 77, 52, 5, 14, 407, 16, 82, 2, 8, 4, 107, 117, 2, 15, 256, 4, 2, 7, 2, 5, 2, 36, 71, 43, 2, 476, 26, 400, 317, 46, 7, 4, 2, 2, 13, 104, 88, 4, 381, 15, 297, 98, 32, 2, 56, 26, 141, 6, 194, 2, 18, 4, 226, 22, 21, 134, 476, 26, 480, 5, 144, 30, 2, 18, 51, 36, 28, 224, 92, 25, 104, 4, 226, 65, 16, 38, 2, 88, 12, 16, 283, 5, 16, 2, 113, 103, 32, 15, 16, 2, 19, 178, 32]\n"
          ]
        }
      ]
    },
    {
      "cell_type": "code",
      "source": [
        "print(train_target[:20])"
      ],
      "metadata": {
        "colab": {
          "base_uri": "https://localhost:8080/"
        },
        "id": "e97f1s8NYNFf",
        "outputId": "377d25e0-01e4-47b0-af3d-1e306c19f11e"
      },
      "execution_count": null,
      "outputs": [
        {
          "output_type": "stream",
          "name": "stdout",
          "text": [
            "[1 0 0 1 0 0 1 0 1 0 1 0 0 0 0 0 1 1 0 1]\n"
          ]
        }
      ]
    },
    {
      "cell_type": "code",
      "source": [
        "from sklearn.model_selection import train_test_split\n",
        "train_input, val_input, train_target, val_target = train_test_split(train_input, train_target, test_size = 0.2, random_state = 42)"
      ],
      "metadata": {
        "id": "eUPvKsq1YTWE"
      },
      "execution_count": null,
      "outputs": []
    },
    {
      "cell_type": "code",
      "source": [
        "import numpy as np\n",
        "lengths = np.array([len(x) for x in train_input])"
      ],
      "metadata": {
        "id": "pN4PDX0nYchM"
      },
      "execution_count": null,
      "outputs": []
    },
    {
      "cell_type": "code",
      "source": [
        "print(np.mean(lengths), np.median(lengths))"
      ],
      "metadata": {
        "colab": {
          "base_uri": "https://localhost:8080/"
        },
        "id": "f6qoT72_YhoJ",
        "outputId": "9566c6f9-a4cb-48f8-bead-a52c16b86184"
      },
      "execution_count": null,
      "outputs": [
        {
          "output_type": "stream",
          "name": "stdout",
          "text": [
            "239.00925 178.0\n"
          ]
        }
      ]
    },
    {
      "cell_type": "code",
      "source": [
        "import matplotlib.pyplot as plt\n",
        "plt.hist(lengths)\n",
        "plt.xlabel('length')\n",
        "plt.ylabel('frequency')\n",
        "plt.show()"
      ],
      "metadata": {
        "colab": {
          "base_uri": "https://localhost:8080/",
          "height": 279
        },
        "id": "5hn7pyFeYkmA",
        "outputId": "2eb90ecc-8941-471a-de80-383968e6e7d1"
      },
      "execution_count": null,
      "outputs": [
        {
          "output_type": "display_data",
          "data": {
            "image/png": "[encoded data removed]",
            "text/plain": [
              "<Figure size 432x288 with 1 Axes>"
            ]
          },
          "metadata": {
            "needs_background": "light"
          }
        }
      ]
    },
    {
      "cell_type": "code",
      "source": [
        "from tensorflow.keras.preprocessing.sequence import pad_sequences\n",
        "train_seq = pad_sequences(train_input, maxlen = 100)"
      ],
      "metadata": {
        "id": "U8oeS_wlYxAU"
      },
      "execution_count": null,
      "outputs": []
    },
    {
      "cell_type": "code",
      "source": [
        "print(train_seq.shape)"
      ],
      "metadata": {
        "colab": {
          "base_uri": "https://localhost:8080/"
        },
        "id": "c5CH0CeyYrpi",
        "outputId": "a8f8d9d4-a3c2-4252-f847-4108c67e34e3"
      },
      "execution_count": null,
      "outputs": [
        {
          "output_type": "stream",
          "name": "stdout",
          "text": [
            "(20000, 100)\n"
          ]
        }
      ]
    },
    {
      "cell_type": "code",
      "source": [
        "print(train_seq[0])"
      ],
      "metadata": {
        "colab": {
          "base_uri": "https://localhost:8080/"
        },
        "id": "HHemQ53FZCFu",
        "outputId": "9fa00767-d7a2-4a74-fb60-cdd89d0f8616"
      },
      "execution_count": null,
      "outputs": [
        {
          "output_type": "stream",
          "name": "stdout",
          "text": [
            "[ 10   4  20   9   2 364 352   5  45   6   2   2  33 269   8   2 142   2\n",
            "   5   2  17  73  17 204   5   2  19  55   2   2  92  66 104  14  20  93\n",
            "  76   2 151  33   4  58  12 188   2 151  12 215  69 224 142  73 237   6\n",
            "   2   7   2   2 188   2 103  14  31  10  10 451   7   2   5   2  80  91\n",
            "   2  30   2  34  14  20 151  50  26 131  49   2  84  46  50  37  80  79\n",
            "   6   2  46   7  14  20  10  10 470 158]\n"
          ]
        }
      ]
    },
    {
      "cell_type": "code",
      "source": [
        "print(train_input[0][-10:])"
      ],
      "metadata": {
        "colab": {
          "base_uri": "https://localhost:8080/"
        },
        "id": "77GON_g_ZP2k",
        "outputId": "7f06f2e9-f6c3-40d6-9141-eb14d8f8a3d8"
      },
      "execution_count": null,
      "outputs": [
        {
          "output_type": "stream",
          "name": "stdout",
          "text": [
            "[6, 2, 46, 7, 14, 20, 10, 10, 470, 158]\n"
          ]
        }
      ]
    },
    {
      "cell_type": "code",
      "source": [
        "print(train_seq[5])"
      ],
      "metadata": {
        "colab": {
          "base_uri": "https://localhost:8080/"
        },
        "id": "2C-pm4HWZS4u",
        "outputId": "478a2807-6307-491d-a066-578d9652693b"
      },
      "execution_count": null,
      "outputs": [
        {
          "output_type": "stream",
          "name": "stdout",
          "text": [
            "[  0   0   0   0   1   2 195  19  49   2   2 190   4   2 352   2 183  10\n",
            "  10  13  82  79   4   2  36  71 269   8   2  25  19  49   7   4   2   2\n",
            "   2   2   2  10  10  48  25  40   2  11   2   2  40   2   2   5   4   2\n",
            "   2  95  14 238  56 129   2  10  10  21   2  94 364 352   2   2  11 190\n",
            "  24 484   2   7  94 205 405  10  10  87   2  34  49   2   7   2   2   2\n",
            "   2   2 290   2  46  48  64  18   4   2]\n"
          ]
        }
      ]
    },
    {
      "cell_type": "code",
      "source": [
        "val_seq = pad_sequences(val_input, maxlen = 100)"
      ],
      "metadata": {
        "id": "Ok3aX_XYZajj"
      },
      "execution_count": null,
      "outputs": []
    },
    {
      "cell_type": "code",
      "source": [
        "from tensorflow import keras\n",
        "model = keras.Sequential()\n",
        "model.add(keras.layers.SimpleRNN(8, input_shape = (100, 500)))\n",
        "model.add(keras.layers.Dense(1, activation = 'sigmoid'))"
      ],
      "metadata": {
        "id": "yJ_1S-wIZevP"
      },
      "execution_count": null,
      "outputs": []
    },
    {
      "cell_type": "code",
      "source": [
        "train_oh = keras.utils.to_categorical(train_seq)"
      ],
      "metadata": {
        "id": "g2eVH_PHZr8u"
      },
      "execution_count": null,
      "outputs": []
    },
    {
      "cell_type": "code",
      "source": [
        "print(train_oh.shape)"
      ],
      "metadata": {
        "colab": {
          "base_uri": "https://localhost:8080/"
        },
        "id": "GKVerSSmZ-cm",
        "outputId": "69a6b09e-bb03-423c-df15-551b78b71154"
      },
      "execution_count": null,
      "outputs": [
        {
          "output_type": "stream",
          "name": "stdout",
          "text": [
            "(20000, 100, 500)\n"
          ]
        }
      ]
    },
    {
      "cell_type": "code",
      "source": [
        "print(train_oh[0][0][:12])"
      ],
      "metadata": {
        "colab": {
          "base_uri": "https://localhost:8080/"
        },
        "id": "5RSSrvavaB9w",
        "outputId": "2931f846-2232-4134-f1ef-0735fe854eae"
      },
      "execution_count": null,
      "outputs": [
        {
          "output_type": "stream",
          "name": "stdout",
          "text": [
            "[0. 0. 0. 0. 0. 0. 0. 0. 0. 0. 1. 0.]\n"
          ]
        }
      ]
    },
    {
      "cell_type": "code",
      "source": [
        "print(np.sum(train_oh[0][0]))"
      ],
      "metadata": {
        "colab": {
          "base_uri": "https://localhost:8080/"
        },
        "id": "lLxEMyl4aE93",
        "outputId": "7774702b-569b-48cd-fba5-d055add041c3"
      },
      "execution_count": null,
      "outputs": [
        {
          "output_type": "stream",
          "name": "stdout",
          "text": [
            "1.0\n"
          ]
        }
      ]
    },
    {
      "cell_type": "code",
      "source": [
        "val_oh = keras.utils.to_categorical(val_seq)"
      ],
      "metadata": {
        "id": "zZ53F0f_aHCn"
      },
      "execution_count": null,
      "outputs": []
    },
    {
      "cell_type": "code",
      "source": [
        "model.summary()"
      ],
      "metadata": {
        "colab": {
          "base_uri": "https://localhost:8080/"
        },
        "id": "OTdRTXReaM-A",
        "outputId": "bc3110d0-79ad-48e8-9e8d-e4becfc85a30"
      },
      "execution_count": null,
      "outputs": [
        {
          "output_type": "stream",
          "name": "stdout",
          "text": [
            "Model: \"sequential\"\n",
            "_________________________________________________________________\n",
            " Layer (type)                Output Shape              Param #   \n",
            "=================================================================\n",
            " simple_rnn (SimpleRNN)      (None, 8)                 4072      \n",
            "                                                                 \n",
            " dense (Dense)               (None, 1)                 9         \n",
            "                                                                 \n",
            "=================================================================\n",
            "Total params: 4,081\n",
            "Trainable params: 4,081\n",
            "Non-trainable params: 0\n",
            "_________________________________________________________________\n"
          ]
        }
      ]
    },
    {
      "cell_type": "code",
      "source": [
        "rmsprop = keras.optimizers.RMSprop(learning_rate = 1e-4)\n",
        "model.compile(optimizer = rmsprop, loss = 'binary_crossentropy', metrics = ['accuracy'])\n",
        "checkpoint_cb = keras.callbacks.ModelCheckpoint('best-simplernn-model.h5', save_best_only = True)\n",
        "early_stopping_cb = keras.callbacks.EarlyStopping(patience = 3, restore_best_weights = True)\n",
        "history = model.fit(train_oh, train_target, epochs = 100, batch_size = 64, validation_data = (val_oh, val_target), callbacks = [checkpoint_cb, early_stopping_cb])"
      ],
      "metadata": {
        "colab": {
          "base_uri": "https://localhost:8080/"
        },
        "id": "e0afT4xraOJn",
        "outputId": "e8f1bebf-1f17-4baa-dec9-88ff25561f12"
      },
      "execution_count": null,
      "outputs": [
        {
          "output_type": "stream",
          "name": "stdout",
          "text": [
            "Epoch 1/100\n",
            "313/313 [==============================] - 28s 80ms/step - loss: 0.6932 - accuracy: 0.5271 - val_loss: 0.6863 - val_accuracy: 0.5522\n",
            "Epoch 2/100\n",
            "313/313 [==============================] - 24s 76ms/step - loss: 0.6739 - accuracy: 0.5852 - val_loss: 0.6684 - val_accuracy: 0.6022\n",
            "Epoch 3/100\n",
            "313/313 [==============================] - 25s 79ms/step - loss: 0.6540 - accuracy: 0.6305 - val_loss: 0.6508 - val_accuracy: 0.6370\n",
            "Epoch 4/100\n",
            "313/313 [==============================] - 15s 47ms/step - loss: 0.6331 - accuracy: 0.6707 - val_loss: 0.6317 - val_accuracy: 0.6680\n",
            "Epoch 5/100\n",
            "313/313 [==============================] - 14s 44ms/step - loss: 0.6113 - accuracy: 0.6939 - val_loss: 0.6122 - val_accuracy: 0.6922\n",
            "Epoch 6/100\n",
            "313/313 [==============================] - 14s 46ms/step - loss: 0.5912 - accuracy: 0.7174 - val_loss: 0.5936 - val_accuracy: 0.7120\n",
            "Epoch 7/100\n",
            "313/313 [==============================] - 14s 45ms/step - loss: 0.5715 - accuracy: 0.7358 - val_loss: 0.5752 - val_accuracy: 0.7296\n",
            "Epoch 8/100\n",
            "313/313 [==============================] - 13s 43ms/step - loss: 0.5542 - accuracy: 0.7462 - val_loss: 0.5589 - val_accuracy: 0.7396\n",
            "Epoch 9/100\n",
            "313/313 [==============================] - 14s 44ms/step - loss: 0.5381 - accuracy: 0.7559 - val_loss: 0.5508 - val_accuracy: 0.7376\n",
            "Epoch 10/100\n",
            "313/313 [==============================] - 14s 46ms/step - loss: 0.5236 - accuracy: 0.7640 - val_loss: 0.5325 - val_accuracy: 0.7568\n",
            "Epoch 11/100\n",
            "313/313 [==============================] - 15s 47ms/step - loss: 0.5104 - accuracy: 0.7723 - val_loss: 0.5225 - val_accuracy: 0.7562\n",
            "Epoch 12/100\n",
            "313/313 [==============================] - 14s 45ms/step - loss: 0.4998 - accuracy: 0.7770 - val_loss: 0.5123 - val_accuracy: 0.7674\n",
            "Epoch 13/100\n",
            "313/313 [==============================] - 14s 45ms/step - loss: 0.4897 - accuracy: 0.7842 - val_loss: 0.5038 - val_accuracy: 0.7694\n",
            "Epoch 14/100\n",
            "313/313 [==============================] - 13s 43ms/step - loss: 0.4810 - accuracy: 0.7885 - val_loss: 0.4965 - val_accuracy: 0.7752\n",
            "Epoch 15/100\n",
            "313/313 [==============================] - 15s 47ms/step - loss: 0.4736 - accuracy: 0.7918 - val_loss: 0.4918 - val_accuracy: 0.7754\n",
            "Epoch 16/100\n",
            "313/313 [==============================] - 14s 44ms/step - loss: 0.4666 - accuracy: 0.7937 - val_loss: 0.4865 - val_accuracy: 0.7780\n",
            "Epoch 17/100\n",
            "313/313 [==============================] - 15s 47ms/step - loss: 0.4604 - accuracy: 0.7969 - val_loss: 0.4842 - val_accuracy: 0.7750\n",
            "Epoch 18/100\n",
            "313/313 [==============================] - 14s 44ms/step - loss: 0.4553 - accuracy: 0.8003 - val_loss: 0.4807 - val_accuracy: 0.7798\n",
            "Epoch 19/100\n",
            "313/313 [==============================] - 13s 43ms/step - loss: 0.4504 - accuracy: 0.8017 - val_loss: 0.4718 - val_accuracy: 0.7858\n",
            "Epoch 20/100\n",
            "313/313 [==============================] - 14s 44ms/step - loss: 0.4452 - accuracy: 0.8046 - val_loss: 0.4709 - val_accuracy: 0.7868\n",
            "Epoch 21/100\n",
            "313/313 [==============================] - 13s 43ms/step - loss: 0.4415 - accuracy: 0.8068 - val_loss: 0.4658 - val_accuracy: 0.7884\n",
            "Epoch 22/100\n",
            "313/313 [==============================] - 15s 47ms/step - loss: 0.4380 - accuracy: 0.8074 - val_loss: 0.4643 - val_accuracy: 0.7880\n",
            "Epoch 23/100\n",
            "313/313 [==============================] - 15s 47ms/step - loss: 0.4344 - accuracy: 0.8087 - val_loss: 0.4629 - val_accuracy: 0.7864\n",
            "Epoch 24/100\n",
            "313/313 [==============================] - 14s 45ms/step - loss: 0.4317 - accuracy: 0.8102 - val_loss: 0.4622 - val_accuracy: 0.7874\n",
            "Epoch 25/100\n",
            "313/313 [==============================] - 14s 44ms/step - loss: 0.4292 - accuracy: 0.8110 - val_loss: 0.4597 - val_accuracy: 0.7874\n",
            "Epoch 26/100\n",
            "313/313 [==============================] - 14s 46ms/step - loss: 0.4269 - accuracy: 0.8110 - val_loss: 0.4618 - val_accuracy: 0.7874\n",
            "Epoch 27/100\n",
            "313/313 [==============================] - 14s 43ms/step - loss: 0.4250 - accuracy: 0.8130 - val_loss: 0.4638 - val_accuracy: 0.7840\n",
            "Epoch 28/100\n",
            "313/313 [==============================] - 15s 47ms/step - loss: 0.4228 - accuracy: 0.8149 - val_loss: 0.4562 - val_accuracy: 0.7898\n",
            "Epoch 29/100\n",
            "313/313 [==============================] - 15s 46ms/step - loss: 0.4206 - accuracy: 0.8152 - val_loss: 0.4554 - val_accuracy: 0.7882\n",
            "Epoch 30/100\n",
            "313/313 [==============================] - 14s 43ms/step - loss: 0.4194 - accuracy: 0.8144 - val_loss: 0.4555 - val_accuracy: 0.7910\n",
            "Epoch 31/100\n",
            "313/313 [==============================] - 13s 43ms/step - loss: 0.4176 - accuracy: 0.8158 - val_loss: 0.4560 - val_accuracy: 0.7914\n",
            "Epoch 32/100\n",
            "313/313 [==============================] - 14s 44ms/step - loss: 0.4159 - accuracy: 0.8172 - val_loss: 0.4552 - val_accuracy: 0.7892\n",
            "Epoch 33/100\n",
            "313/313 [==============================] - 14s 45ms/step - loss: 0.4147 - accuracy: 0.8161 - val_loss: 0.4544 - val_accuracy: 0.7886\n",
            "Epoch 34/100\n",
            "313/313 [==============================] - 14s 44ms/step - loss: 0.4132 - accuracy: 0.8171 - val_loss: 0.4553 - val_accuracy: 0.7918\n",
            "Epoch 35/100\n",
            "313/313 [==============================] - 14s 44ms/step - loss: 0.4119 - accuracy: 0.8188 - val_loss: 0.4572 - val_accuracy: 0.7848\n",
            "Epoch 36/100\n",
            "313/313 [==============================] - 14s 45ms/step - loss: 0.4111 - accuracy: 0.8184 - val_loss: 0.4553 - val_accuracy: 0.7886\n"
          ]
        }
      ]
    },
    {
      "cell_type": "code",
      "source": [
        "plt.plot(history.history['loss'])\n",
        "plt.plot(history.history['val_loss'])\n",
        "plt.xlabel('epoch')\n",
        "plt.ylabel('loss')\n",
        "plt.legend(['train', 'val'])\n",
        "plt.show()"
      ],
      "metadata": {
        "colab": {
          "base_uri": "https://localhost:8080/",
          "height": 279
        },
        "id": "RSK5exe1d7MW",
        "outputId": "ba49507b-2020-48e1-eba9-89a530ea78d7"
      },
      "execution_count": null,
      "outputs": [
        {
          "output_type": "display_data",
          "data": {
            "image/png": "[encoded data removed]",
            "text/plain": [
              "<Figure size 432x288 with 1 Axes>"
            ]
          },
          "metadata": {
            "needs_background": "light"
          }
        }
      ]
    },
    {
      "cell_type": "code",
      "source": [
        "print(train_seq.nbytes, train_oh.nbytes)"
      ],
      "metadata": {
        "colab": {
          "base_uri": "https://localhost:8080/"
        },
        "id": "jvwH9UKreQM2",
        "outputId": "23c9b5cb-b9a7-474a-c6d6-ad21d1726b65"
      },
      "execution_count": null,
      "outputs": [
        {
          "output_type": "stream",
          "name": "stdout",
          "text": [
            "8000000 4000000000\n"
          ]
        }
      ]
    },
    {
      "cell_type": "code",
      "source": [
        "model2 = keras.Sequential()\n",
        "model2.add(keras.layers.Embedding(500, 16, input_length = 100))\n",
        "model2.add(keras.layers.SimpleRNN(8))\n",
        "model2.add(keras.layers.Dense(1, activation = 'sigmoid'))"
      ],
      "metadata": {
        "id": "PGyJDmRCeUsr"
      },
      "execution_count": null,
      "outputs": []
    },
    {
      "cell_type": "code",
      "source": [
        "model2.summary()"
      ],
      "metadata": {
        "colab": {
          "base_uri": "https://localhost:8080/"
        },
        "id": "XcTvvgiVe8sg",
        "outputId": "552dd061-2046-4c7a-9178-f67abb31f447"
      },
      "execution_count": null,
      "outputs": [
        {
          "output_type": "stream",
          "name": "stdout",
          "text": [
            "Model: \"sequential_1\"\n",
            "_________________________________________________________________\n",
            " Layer (type)                Output Shape              Param #   \n",
            "=================================================================\n",
            " embedding (Embedding)       (None, 100, 16)           8000      \n",
            "                                                                 \n",
            " simple_rnn_1 (SimpleRNN)    (None, 8)                 200       \n",
            "                                                                 \n",
            " dense_1 (Dense)             (None, 1)                 9         \n",
            "                                                                 \n",
            "=================================================================\n",
            "Total params: 8,209\n",
            "Trainable params: 8,209\n",
            "Non-trainable params: 0\n",
            "_________________________________________________________________\n"
          ]
        }
      ]
    },
    {
      "cell_type": "code",
      "source": [
        "rmsprop = keras.optimizers.RMSprop(learning_rate = 1e-4)\n",
        "model2.compile(optimizer = rmsprop, loss = 'binary_crossentropy', metrics = ['accuracy'])\n",
        "checkpoint_cb = keras.callbacks.ModelCheckpoint('best-embedding-model.h5', save_best_only = True)\n",
        "early_stopping_cb = keras.callbacks.EarlyStopping(patience = 3, restore_best_weights = True)\n",
        "history = model2.fit(train_seq, train_target, epochs = 100, batch_size = 64, validation_data = (val_seq, val_target), callbacks = [checkpoint_cb, early_stopping_cb])"
      ],
      "metadata": {
        "colab": {
          "base_uri": "https://localhost:8080/"
        },
        "id": "TITWTomme94a",
        "outputId": "f0f0f232-cd3f-48ef-9b54-ad9eb779d2f6"
      },
      "execution_count": null,
      "outputs": [
        {
          "output_type": "stream",
          "name": "stdout",
          "text": [
            "Epoch 1/100\n",
            "313/313 [==============================] - 9s 24ms/step - loss: 0.6734 - accuracy: 0.5786 - val_loss: 0.6412 - val_accuracy: 0.6466\n",
            "Epoch 2/100\n",
            "313/313 [==============================] - 8s 25ms/step - loss: 0.6172 - accuracy: 0.6906 - val_loss: 0.5985 - val_accuracy: 0.7172\n",
            "Epoch 3/100\n",
            "313/313 [==============================] - 8s 26ms/step - loss: 0.5833 - accuracy: 0.7334 - val_loss: 0.5758 - val_accuracy: 0.7400\n",
            "Epoch 4/100\n",
            "313/313 [==============================] - 8s 25ms/step - loss: 0.5586 - accuracy: 0.7549 - val_loss: 0.5554 - val_accuracy: 0.7466\n",
            "Epoch 5/100\n",
            "313/313 [==============================] - 8s 24ms/step - loss: 0.5390 - accuracy: 0.7674 - val_loss: 0.5419 - val_accuracy: 0.7584\n",
            "Epoch 6/100\n",
            "313/313 [==============================] - 8s 24ms/step - loss: 0.5225 - accuracy: 0.7761 - val_loss: 0.5256 - val_accuracy: 0.7680\n",
            "Epoch 7/100\n",
            "313/313 [==============================] - 8s 24ms/step - loss: 0.5078 - accuracy: 0.7849 - val_loss: 0.5127 - val_accuracy: 0.7750\n",
            "Epoch 8/100\n",
            "313/313 [==============================] - 7s 24ms/step - loss: 0.4939 - accuracy: 0.7901 - val_loss: 0.5051 - val_accuracy: 0.7714\n",
            "Epoch 9/100\n",
            "313/313 [==============================] - 7s 24ms/step - loss: 0.4823 - accuracy: 0.7951 - val_loss: 0.4948 - val_accuracy: 0.7804\n",
            "Epoch 10/100\n",
            "313/313 [==============================] - 8s 24ms/step - loss: 0.4721 - accuracy: 0.8031 - val_loss: 0.4878 - val_accuracy: 0.7836\n",
            "Epoch 11/100\n",
            "313/313 [==============================] - 8s 24ms/step - loss: 0.4625 - accuracy: 0.8052 - val_loss: 0.4827 - val_accuracy: 0.7826\n",
            "Epoch 12/100\n",
            "313/313 [==============================] - 8s 24ms/step - loss: 0.4545 - accuracy: 0.8073 - val_loss: 0.4765 - val_accuracy: 0.7866\n",
            "Epoch 13/100\n",
            "313/313 [==============================] - 8s 24ms/step - loss: 0.4480 - accuracy: 0.8087 - val_loss: 0.4725 - val_accuracy: 0.7862\n",
            "Epoch 14/100\n",
            "313/313 [==============================] - 8s 25ms/step - loss: 0.4417 - accuracy: 0.8130 - val_loss: 0.4676 - val_accuracy: 0.7898\n",
            "Epoch 15/100\n",
            "313/313 [==============================] - 8s 24ms/step - loss: 0.4364 - accuracy: 0.8132 - val_loss: 0.4679 - val_accuracy: 0.7846\n",
            "Epoch 16/100\n",
            "313/313 [==============================] - 7s 24ms/step - loss: 0.4310 - accuracy: 0.8156 - val_loss: 0.4622 - val_accuracy: 0.7908\n",
            "Epoch 17/100\n",
            "313/313 [==============================] - 7s 24ms/step - loss: 0.4268 - accuracy: 0.8173 - val_loss: 0.4605 - val_accuracy: 0.7876\n",
            "Epoch 18/100\n",
            "313/313 [==============================] - 8s 24ms/step - loss: 0.4227 - accuracy: 0.8177 - val_loss: 0.4606 - val_accuracy: 0.7880\n",
            "Epoch 19/100\n",
            "313/313 [==============================] - 8s 24ms/step - loss: 0.4199 - accuracy: 0.8174 - val_loss: 0.4605 - val_accuracy: 0.7874\n",
            "Epoch 20/100\n",
            "313/313 [==============================] - 8s 25ms/step - loss: 0.4162 - accuracy: 0.8198 - val_loss: 0.4585 - val_accuracy: 0.7870\n",
            "Epoch 21/100\n",
            "313/313 [==============================] - 8s 24ms/step - loss: 0.4135 - accuracy: 0.8208 - val_loss: 0.4594 - val_accuracy: 0.7890\n",
            "Epoch 22/100\n",
            "313/313 [==============================] - 8s 25ms/step - loss: 0.4111 - accuracy: 0.8213 - val_loss: 0.4561 - val_accuracy: 0.7918\n",
            "Epoch 23/100\n",
            "313/313 [==============================] - 8s 24ms/step - loss: 0.4087 - accuracy: 0.8233 - val_loss: 0.4571 - val_accuracy: 0.7898\n",
            "Epoch 24/100\n",
            "313/313 [==============================] - 8s 25ms/step - loss: 0.4073 - accuracy: 0.8242 - val_loss: 0.4590 - val_accuracy: 0.7914\n",
            "Epoch 25/100\n",
            "313/313 [==============================] - 8s 24ms/step - loss: 0.4049 - accuracy: 0.8230 - val_loss: 0.4533 - val_accuracy: 0.7926\n",
            "Epoch 26/100\n",
            "313/313 [==============================] - 8s 25ms/step - loss: 0.4035 - accuracy: 0.8260 - val_loss: 0.4572 - val_accuracy: 0.7922\n",
            "Epoch 27/100\n",
            "313/313 [==============================] - 8s 24ms/step - loss: 0.4018 - accuracy: 0.8260 - val_loss: 0.4596 - val_accuracy: 0.7880\n",
            "Epoch 28/100\n",
            "313/313 [==============================] - 8s 25ms/step - loss: 0.3996 - accuracy: 0.8268 - val_loss: 0.4562 - val_accuracy: 0.7920\n"
          ]
        }
      ]
    },
    {
      "cell_type": "code",
      "source": [
        "plt.plot(history.history['loss'])\n",
        "plt.plot(history.history['val_loss'])\n",
        "plt.xlabel('epoch')\n",
        "plt.ylabel('loss')\n",
        "plt.legend(['train', 'val'])\n",
        "plt.show()"
      ],
      "metadata": {
        "colab": {
          "base_uri": "https://localhost:8080/",
          "height": 279
        },
        "id": "1Q1ijHlGfVKz",
        "outputId": "40ca9a9c-1054-48a5-881a-0ba3b6468cb9"
      },
      "execution_count": null,
      "outputs": [
        {
          "output_type": "display_data",
          "data": {
            "image/png": "[encoded data removed]",
            "text/plain": [
              "<Figure size 432x288 with 1 Axes>"
            ]
          },
          "metadata": {
            "needs_background": "light"
          }
        }
      ]
    },
    {
      "cell_type": "code",
      "source": [
        "model = keras.Sequential()\n",
        "model.add(keras.layers.Embedding(500, 16, input_length = 100))\n",
        "model.add(keras.layers.LSTM(8))\n",
        "model.add(keras.layers.Dense(1, activation = 'sigmoid'))"
      ],
      "metadata": {
        "id": "gA84e83jmFob"
      },
      "execution_count": null,
      "outputs": []
    },
    {
      "cell_type": "code",
      "source": [
        "model.summary()"
      ],
      "metadata": {
        "colab": {
          "base_uri": "https://localhost:8080/"
        },
        "id": "24KTbTYbmpBG",
        "outputId": "54942fef-abb9-4ed7-ae5b-8402298de00d"
      },
      "execution_count": null,
      "outputs": [
        {
          "output_type": "stream",
          "name": "stdout",
          "text": [
            "Model: \"sequential_2\"\n",
            "_________________________________________________________________\n",
            " Layer (type)                Output Shape              Param #   \n",
            "=================================================================\n",
            " embedding_1 (Embedding)     (None, 100, 16)           8000      \n",
            "                                                                 \n",
            " lstm (LSTM)                 (None, 8)                 800       \n",
            "                                                                 \n",
            " dense_2 (Dense)             (None, 1)                 9         \n",
            "                                                                 \n",
            "=================================================================\n",
            "Total params: 8,809\n",
            "Trainable params: 8,809\n",
            "Non-trainable params: 0\n",
            "_________________________________________________________________\n"
          ]
        }
      ]
    },
    {
      "cell_type": "code",
      "source": [
        "rmsprop = keras.optimizers.RMSprop(learning_rate = 1e-4)\n",
        "model.compile(optimizer = rmsprop, loss = 'binary_crossentropy', metrics = ['accuracy'])\n",
        "checkpoint_cb = keras.callbacks.ModelCheckpoint('best-lstm-model.h5', save_best_only = True)\n",
        "early_stopping_cb = keras.callbacks.EarlyStopping(patience = 3, restore_best_weights = True)\n",
        "history = model.fit(train_seq, train_target, epochs = 100, batch_size = 64, validation_data = (val_seq, val_target), callbacks = [checkpoint_cb, early_stopping_cb])"
      ],
      "metadata": {
        "colab": {
          "base_uri": "https://localhost:8080/"
        },
        "id": "EQ28MiO3mqsG",
        "outputId": "b7131cb9-58b9-4ef1-b6d9-7246abce0158"
      },
      "execution_count": null,
      "outputs": [
        {
          "output_type": "stream",
          "name": "stdout",
          "text": [
            "Epoch 1/100\n",
            "313/313 [==============================] - 16s 45ms/step - loss: 0.6923 - accuracy: 0.5533 - val_loss: 0.6913 - val_accuracy: 0.6024\n",
            "Epoch 2/100\n",
            "313/313 [==============================] - 15s 48ms/step - loss: 0.6896 - accuracy: 0.6228 - val_loss: 0.6875 - val_accuracy: 0.6360\n",
            "Epoch 3/100\n",
            "313/313 [==============================] - 14s 44ms/step - loss: 0.6807 - accuracy: 0.6350 - val_loss: 0.6716 - val_accuracy: 0.5962\n",
            "Epoch 4/100\n",
            "313/313 [==============================] - 14s 44ms/step - loss: 0.6449 - accuracy: 0.6885 - val_loss: 0.6247 - val_accuracy: 0.7326\n",
            "Epoch 5/100\n",
            "313/313 [==============================] - 13s 43ms/step - loss: 0.6069 - accuracy: 0.7376 - val_loss: 0.6012 - val_accuracy: 0.7312\n",
            "Epoch 6/100\n",
            "313/313 [==============================] - 14s 44ms/step - loss: 0.5864 - accuracy: 0.7411 - val_loss: 0.5842 - val_accuracy: 0.7372\n",
            "Epoch 7/100\n",
            "313/313 [==============================] - 14s 44ms/step - loss: 0.5691 - accuracy: 0.7492 - val_loss: 0.5683 - val_accuracy: 0.7322\n",
            "Epoch 8/100\n",
            "313/313 [==============================] - 14s 44ms/step - loss: 0.5527 - accuracy: 0.7566 - val_loss: 0.5527 - val_accuracy: 0.7476\n",
            "Epoch 9/100\n",
            "313/313 [==============================] - 14s 43ms/step - loss: 0.5360 - accuracy: 0.7625 - val_loss: 0.5348 - val_accuracy: 0.7558\n",
            "Epoch 10/100\n",
            "313/313 [==============================] - 14s 44ms/step - loss: 0.5182 - accuracy: 0.7706 - val_loss: 0.5170 - val_accuracy: 0.7658\n",
            "Epoch 11/100\n",
            "313/313 [==============================] - 14s 44ms/step - loss: 0.5016 - accuracy: 0.7790 - val_loss: 0.5047 - val_accuracy: 0.7688\n",
            "Epoch 12/100\n",
            "313/313 [==============================] - 14s 43ms/step - loss: 0.4871 - accuracy: 0.7869 - val_loss: 0.4913 - val_accuracy: 0.7788\n",
            "Epoch 13/100\n",
            "313/313 [==============================] - 14s 44ms/step - loss: 0.4756 - accuracy: 0.7914 - val_loss: 0.4800 - val_accuracy: 0.7860\n",
            "Epoch 14/100\n",
            "313/313 [==============================] - 14s 44ms/step - loss: 0.4655 - accuracy: 0.7951 - val_loss: 0.4717 - val_accuracy: 0.7852\n",
            "Epoch 15/100\n",
            "313/313 [==============================] - 14s 44ms/step - loss: 0.4569 - accuracy: 0.7995 - val_loss: 0.4656 - val_accuracy: 0.7932\n",
            "Epoch 16/100\n",
            "313/313 [==============================] - 14s 44ms/step - loss: 0.4497 - accuracy: 0.8009 - val_loss: 0.4598 - val_accuracy: 0.7928\n",
            "Epoch 17/100\n",
            "313/313 [==============================] - 14s 43ms/step - loss: 0.4435 - accuracy: 0.8054 - val_loss: 0.4576 - val_accuracy: 0.7934\n",
            "Epoch 18/100\n",
            "313/313 [==============================] - 14s 43ms/step - loss: 0.4386 - accuracy: 0.8063 - val_loss: 0.4527 - val_accuracy: 0.7950\n",
            "Epoch 19/100\n",
            "313/313 [==============================] - 14s 43ms/step - loss: 0.4345 - accuracy: 0.8079 - val_loss: 0.4543 - val_accuracy: 0.7920\n",
            "Epoch 20/100\n",
            "313/313 [==============================] - 14s 43ms/step - loss: 0.4310 - accuracy: 0.8094 - val_loss: 0.4479 - val_accuracy: 0.7956\n",
            "Epoch 21/100\n",
            "313/313 [==============================] - 13s 43ms/step - loss: 0.4280 - accuracy: 0.8116 - val_loss: 0.4461 - val_accuracy: 0.7960\n",
            "Epoch 22/100\n",
            "313/313 [==============================] - 13s 43ms/step - loss: 0.4256 - accuracy: 0.8106 - val_loss: 0.4450 - val_accuracy: 0.7966\n",
            "Epoch 23/100\n",
            "313/313 [==============================] - 14s 43ms/step - loss: 0.4234 - accuracy: 0.8115 - val_loss: 0.4426 - val_accuracy: 0.7984\n",
            "Epoch 24/100\n",
            "313/313 [==============================] - 14s 44ms/step - loss: 0.4212 - accuracy: 0.8123 - val_loss: 0.4429 - val_accuracy: 0.7964\n",
            "Epoch 25/100\n",
            "313/313 [==============================] - 13s 43ms/step - loss: 0.4195 - accuracy: 0.8127 - val_loss: 0.4403 - val_accuracy: 0.7980\n",
            "Epoch 26/100\n",
            "313/313 [==============================] - 13s 43ms/step - loss: 0.4174 - accuracy: 0.8118 - val_loss: 0.4416 - val_accuracy: 0.7948\n",
            "Epoch 27/100\n",
            "313/313 [==============================] - 13s 43ms/step - loss: 0.4163 - accuracy: 0.8138 - val_loss: 0.4377 - val_accuracy: 0.8004\n",
            "Epoch 28/100\n",
            "313/313 [==============================] - 13s 43ms/step - loss: 0.4150 - accuracy: 0.8126 - val_loss: 0.4378 - val_accuracy: 0.8006\n",
            "Epoch 29/100\n",
            "313/313 [==============================] - 13s 42ms/step - loss: 0.4135 - accuracy: 0.8138 - val_loss: 0.4411 - val_accuracy: 0.7962\n",
            "Epoch 30/100\n",
            "313/313 [==============================] - 13s 42ms/step - loss: 0.4122 - accuracy: 0.8152 - val_loss: 0.4353 - val_accuracy: 0.8018\n",
            "Epoch 31/100\n",
            "313/313 [==============================] - 13s 42ms/step - loss: 0.4116 - accuracy: 0.8141 - val_loss: 0.4350 - val_accuracy: 0.8020\n",
            "Epoch 32/100\n",
            "313/313 [==============================] - 13s 42ms/step - loss: 0.4105 - accuracy: 0.8142 - val_loss: 0.4353 - val_accuracy: 0.8008\n",
            "Epoch 33/100\n",
            "313/313 [==============================] - 13s 42ms/step - loss: 0.4093 - accuracy: 0.8156 - val_loss: 0.4432 - val_accuracy: 0.7912\n",
            "Epoch 34/100\n",
            "313/313 [==============================] - 13s 43ms/step - loss: 0.4083 - accuracy: 0.8152 - val_loss: 0.4334 - val_accuracy: 0.8016\n",
            "Epoch 35/100\n",
            "313/313 [==============================] - 13s 42ms/step - loss: 0.4078 - accuracy: 0.8155 - val_loss: 0.4326 - val_accuracy: 0.8032\n",
            "Epoch 36/100\n",
            "313/313 [==============================] - 13s 42ms/step - loss: 0.4067 - accuracy: 0.8166 - val_loss: 0.4322 - val_accuracy: 0.7978\n",
            "Epoch 37/100\n",
            "313/313 [==============================] - 13s 42ms/step - loss: 0.4062 - accuracy: 0.8157 - val_loss: 0.4327 - val_accuracy: 0.8004\n",
            "Epoch 38/100\n",
            "313/313 [==============================] - 13s 42ms/step - loss: 0.4054 - accuracy: 0.8169 - val_loss: 0.4324 - val_accuracy: 0.7986\n",
            "Epoch 39/100\n",
            "313/313 [==============================] - 13s 42ms/step - loss: 0.4046 - accuracy: 0.8164 - val_loss: 0.4327 - val_accuracy: 0.8016\n"
          ]
        }
      ]
    },
    {
      "cell_type": "code",
      "source": [
        "plt.plot(history.history['loss'])\n",
        "plt.plot(history.history['val_loss'])\n",
        "plt.xlabel('epoch')\n",
        "plt.ylabel('loss')\n",
        "plt.legend(['train', 'val'])\n",
        "plt.show()"
      ],
      "metadata": {
        "colab": {
          "base_uri": "https://localhost:8080/",
          "height": 279
        },
        "id": "rCUzgvjOm7xV",
        "outputId": "cd44c100-e334-49a6-8d0d-b3d0f969c9f8"
      },
      "execution_count": null,
      "outputs": [
        {
          "output_type": "display_data",
          "data": {
            "image/png": "[encoded data removed]",
            "text/plain": [
              "<Figure size 432x288 with 1 Axes>"
            ]
          },
          "metadata": {
            "needs_background": "light"
          }
        }
      ]
    },
    {
      "cell_type": "code",
      "source": [
        "model2 = keras.Sequential()\n",
        "model2.add(keras.layers.Embedding(500, 16, input_length = 100))\n",
        "model2.add(keras.layers.LSTM(8, dropout = 0.3))\n",
        "model2.add(keras.layers.Dense(1, activation = 'sigmoid'))"
      ],
      "metadata": {
        "id": "jfA6q_FypF78"
      },
      "execution_count": null,
      "outputs": []
    },
    {
      "cell_type": "code",
      "source": [
        "rmsprop = keras.optimizers.RMSprop(learning_rate = 1e-4)\n",
        "model2.compile(optimizer = rmsprop, loss = 'binary_crossentropy', metrics = ['accuracy'])\n",
        "checkpoint_cb = keras.callbacks.ModelCheckpoint('best-dropout-model.h5', save_best_only = True)\n",
        "early_stopping_cb = keras.callbacks.EarlyStopping(patience = 3, restore_best_weights = True)\n",
        "history = model2.fit(train_seq, train_target, epochs = 100, batch_size = 64, validation_data = (val_seq, val_target), callbacks = [checkpoint_cb, early_stopping_cb])"
      ],
      "metadata": {
        "colab": {
          "base_uri": "https://localhost:8080/"
        },
        "id": "wQRiIw5wpQvm",
        "outputId": "6759b080-49ee-427a-e1ea-7d2ff70a9585"
      },
      "execution_count": null,
      "outputs": [
        {
          "output_type": "stream",
          "name": "stdout",
          "text": [
            "Epoch 1/100\n",
            "313/313 [==============================] - 17s 47ms/step - loss: 0.6923 - accuracy: 0.5354 - val_loss: 0.6913 - val_accuracy: 0.5960\n",
            "Epoch 2/100\n",
            "313/313 [==============================] - 14s 45ms/step - loss: 0.6896 - accuracy: 0.6004 - val_loss: 0.6873 - val_accuracy: 0.6418\n",
            "Epoch 3/100\n",
            "313/313 [==============================] - 15s 48ms/step - loss: 0.6814 - accuracy: 0.6454 - val_loss: 0.6731 - val_accuracy: 0.6550\n",
            "Epoch 4/100\n",
            "313/313 [==============================] - 15s 46ms/step - loss: 0.6364 - accuracy: 0.6735 - val_loss: 0.6041 - val_accuracy: 0.7204\n",
            "Epoch 5/100\n",
            "313/313 [==============================] - 14s 46ms/step - loss: 0.5865 - accuracy: 0.7315 - val_loss: 0.5760 - val_accuracy: 0.7428\n",
            "Epoch 6/100\n",
            "313/313 [==============================] - 14s 46ms/step - loss: 0.5616 - accuracy: 0.7490 - val_loss: 0.5546 - val_accuracy: 0.7582\n",
            "Epoch 7/100\n",
            "313/313 [==============================] - 14s 46ms/step - loss: 0.5435 - accuracy: 0.7599 - val_loss: 0.5369 - val_accuracy: 0.7616\n",
            "Epoch 8/100\n",
            "313/313 [==============================] - 14s 46ms/step - loss: 0.5272 - accuracy: 0.7635 - val_loss: 0.5208 - val_accuracy: 0.7714\n",
            "Epoch 9/100\n",
            "313/313 [==============================] - 14s 45ms/step - loss: 0.5103 - accuracy: 0.7696 - val_loss: 0.5058 - val_accuracy: 0.7710\n",
            "Epoch 10/100\n",
            "313/313 [==============================] - 14s 45ms/step - loss: 0.4944 - accuracy: 0.7778 - val_loss: 0.4919 - val_accuracy: 0.7764\n",
            "Epoch 11/100\n",
            "313/313 [==============================] - 14s 45ms/step - loss: 0.4828 - accuracy: 0.7840 - val_loss: 0.4800 - val_accuracy: 0.7850\n",
            "Epoch 12/100\n",
            "313/313 [==============================] - 14s 45ms/step - loss: 0.4714 - accuracy: 0.7883 - val_loss: 0.4709 - val_accuracy: 0.7876\n",
            "Epoch 13/100\n",
            "313/313 [==============================] - 14s 45ms/step - loss: 0.4639 - accuracy: 0.7914 - val_loss: 0.4638 - val_accuracy: 0.7886\n",
            "Epoch 14/100\n",
            "313/313 [==============================] - 14s 46ms/step - loss: 0.4573 - accuracy: 0.7947 - val_loss: 0.4590 - val_accuracy: 0.7896\n",
            "Epoch 15/100\n",
            "313/313 [==============================] - 14s 45ms/step - loss: 0.4522 - accuracy: 0.7967 - val_loss: 0.4549 - val_accuracy: 0.7918\n",
            "Epoch 16/100\n",
            "313/313 [==============================] - 14s 45ms/step - loss: 0.4497 - accuracy: 0.7971 - val_loss: 0.4554 - val_accuracy: 0.7888\n",
            "Epoch 17/100\n",
            "313/313 [==============================] - 14s 45ms/step - loss: 0.4451 - accuracy: 0.7991 - val_loss: 0.4486 - val_accuracy: 0.7926\n",
            "Epoch 18/100\n",
            "313/313 [==============================] - 14s 45ms/step - loss: 0.4420 - accuracy: 0.8001 - val_loss: 0.4477 - val_accuracy: 0.7946\n",
            "Epoch 19/100\n",
            "313/313 [==============================] - 14s 46ms/step - loss: 0.4390 - accuracy: 0.8022 - val_loss: 0.4454 - val_accuracy: 0.7932\n",
            "Epoch 20/100\n",
            "313/313 [==============================] - 14s 45ms/step - loss: 0.4374 - accuracy: 0.8017 - val_loss: 0.4432 - val_accuracy: 0.7954\n",
            "Epoch 21/100\n",
            "313/313 [==============================] - 14s 45ms/step - loss: 0.4361 - accuracy: 0.7997 - val_loss: 0.4423 - val_accuracy: 0.7976\n",
            "Epoch 22/100\n",
            "313/313 [==============================] - 14s 46ms/step - loss: 0.4327 - accuracy: 0.8036 - val_loss: 0.4421 - val_accuracy: 0.7996\n",
            "Epoch 23/100\n",
            "313/313 [==============================] - 14s 46ms/step - loss: 0.4320 - accuracy: 0.8038 - val_loss: 0.4411 - val_accuracy: 0.7974\n",
            "Epoch 24/100\n",
            "313/313 [==============================] - 14s 46ms/step - loss: 0.4295 - accuracy: 0.8063 - val_loss: 0.4396 - val_accuracy: 0.7966\n",
            "Epoch 25/100\n",
            "313/313 [==============================] - 14s 45ms/step - loss: 0.4280 - accuracy: 0.8055 - val_loss: 0.4385 - val_accuracy: 0.7984\n",
            "Epoch 26/100\n",
            "313/313 [==============================] - 14s 46ms/step - loss: 0.4272 - accuracy: 0.8082 - val_loss: 0.4422 - val_accuracy: 0.7904\n",
            "Epoch 27/100\n",
            "313/313 [==============================] - 14s 45ms/step - loss: 0.4280 - accuracy: 0.8068 - val_loss: 0.4377 - val_accuracy: 0.7966\n",
            "Epoch 28/100\n",
            "313/313 [==============================] - 14s 45ms/step - loss: 0.4254 - accuracy: 0.8087 - val_loss: 0.4368 - val_accuracy: 0.7994\n",
            "Epoch 29/100\n",
            "313/313 [==============================] - 14s 45ms/step - loss: 0.4254 - accuracy: 0.8055 - val_loss: 0.4382 - val_accuracy: 0.8012\n",
            "Epoch 30/100\n",
            "313/313 [==============================] - 14s 45ms/step - loss: 0.4219 - accuracy: 0.8102 - val_loss: 0.4411 - val_accuracy: 0.7998\n",
            "Epoch 31/100\n",
            "313/313 [==============================] - 14s 45ms/step - loss: 0.4232 - accuracy: 0.8080 - val_loss: 0.4356 - val_accuracy: 0.7986\n",
            "Epoch 32/100\n",
            "313/313 [==============================] - 14s 45ms/step - loss: 0.4214 - accuracy: 0.8101 - val_loss: 0.4348 - val_accuracy: 0.8008\n",
            "Epoch 33/100\n",
            "313/313 [==============================] - 14s 45ms/step - loss: 0.4220 - accuracy: 0.8108 - val_loss: 0.4344 - val_accuracy: 0.8006\n",
            "Epoch 34/100\n",
            "313/313 [==============================] - 14s 45ms/step - loss: 0.4219 - accuracy: 0.8098 - val_loss: 0.4337 - val_accuracy: 0.8024\n",
            "Epoch 35/100\n",
            "313/313 [==============================] - 14s 45ms/step - loss: 0.4203 - accuracy: 0.8098 - val_loss: 0.4375 - val_accuracy: 0.8042\n",
            "Epoch 36/100\n",
            "313/313 [==============================] - 14s 46ms/step - loss: 0.4202 - accuracy: 0.8088 - val_loss: 0.4343 - val_accuracy: 0.8024\n",
            "Epoch 37/100\n",
            "313/313 [==============================] - 15s 46ms/step - loss: 0.4200 - accuracy: 0.8114 - val_loss: 0.4331 - val_accuracy: 0.8022\n",
            "Epoch 38/100\n",
            "313/313 [==============================] - 14s 45ms/step - loss: 0.4190 - accuracy: 0.8104 - val_loss: 0.4327 - val_accuracy: 0.8044\n",
            "Epoch 39/100\n",
            "313/313 [==============================] - 14s 45ms/step - loss: 0.4196 - accuracy: 0.8094 - val_loss: 0.4333 - val_accuracy: 0.7978\n",
            "Epoch 40/100\n",
            "313/313 [==============================] - 14s 45ms/step - loss: 0.4173 - accuracy: 0.8140 - val_loss: 0.4335 - val_accuracy: 0.8018\n",
            "Epoch 41/100\n",
            "313/313 [==============================] - 14s 45ms/step - loss: 0.4181 - accuracy: 0.8127 - val_loss: 0.4318 - val_accuracy: 0.8026\n",
            "Epoch 42/100\n",
            "313/313 [==============================] - 14s 45ms/step - loss: 0.4175 - accuracy: 0.8112 - val_loss: 0.4324 - val_accuracy: 0.8046\n",
            "Epoch 43/100\n",
            "313/313 [==============================] - 14s 45ms/step - loss: 0.4157 - accuracy: 0.8120 - val_loss: 0.4305 - val_accuracy: 0.8034\n",
            "Epoch 44/100\n",
            "313/313 [==============================] - 14s 45ms/step - loss: 0.4157 - accuracy: 0.8136 - val_loss: 0.4303 - val_accuracy: 0.8030\n",
            "Epoch 45/100\n",
            "313/313 [==============================] - 14s 46ms/step - loss: 0.4144 - accuracy: 0.8141 - val_loss: 0.4302 - val_accuracy: 0.8030\n",
            "Epoch 46/100\n",
            "313/313 [==============================] - 14s 46ms/step - loss: 0.4147 - accuracy: 0.8133 - val_loss: 0.4303 - val_accuracy: 0.8038\n",
            "Epoch 47/100\n",
            "313/313 [==============================] - 14s 45ms/step - loss: 0.4130 - accuracy: 0.8145 - val_loss: 0.4297 - val_accuracy: 0.8016\n",
            "Epoch 48/100\n",
            "313/313 [==============================] - 14s 44ms/step - loss: 0.4134 - accuracy: 0.8127 - val_loss: 0.4294 - val_accuracy: 0.8018\n",
            "Epoch 49/100\n",
            "313/313 [==============================] - 14s 44ms/step - loss: 0.4141 - accuracy: 0.8127 - val_loss: 0.4303 - val_accuracy: 0.8062\n",
            "Epoch 50/100\n",
            "313/313 [==============================] - 14s 45ms/step - loss: 0.4128 - accuracy: 0.8155 - val_loss: 0.4330 - val_accuracy: 0.7996\n",
            "Epoch 51/100\n",
            "313/313 [==============================] - 14s 45ms/step - loss: 0.4139 - accuracy: 0.8104 - val_loss: 0.4280 - val_accuracy: 0.8052\n",
            "Epoch 52/100\n",
            "313/313 [==============================] - 14s 45ms/step - loss: 0.4111 - accuracy: 0.8162 - val_loss: 0.4279 - val_accuracy: 0.8022\n",
            "Epoch 53/100\n",
            "313/313 [==============================] - 14s 45ms/step - loss: 0.4127 - accuracy: 0.8107 - val_loss: 0.4294 - val_accuracy: 0.8036\n",
            "Epoch 54/100\n",
            "313/313 [==============================] - 14s 44ms/step - loss: 0.4094 - accuracy: 0.8144 - val_loss: 0.4330 - val_accuracy: 0.8062\n",
            "Epoch 55/100\n",
            "313/313 [==============================] - 14s 45ms/step - loss: 0.4105 - accuracy: 0.8139 - val_loss: 0.4274 - val_accuracy: 0.8036\n",
            "Epoch 56/100\n",
            "313/313 [==============================] - 14s 44ms/step - loss: 0.4095 - accuracy: 0.8142 - val_loss: 0.4293 - val_accuracy: 0.8064\n",
            "Epoch 57/100\n",
            "313/313 [==============================] - 14s 45ms/step - loss: 0.4105 - accuracy: 0.8145 - val_loss: 0.4287 - val_accuracy: 0.8054\n",
            "Epoch 58/100\n",
            "313/313 [==============================] - 14s 45ms/step - loss: 0.4088 - accuracy: 0.8140 - val_loss: 0.4262 - val_accuracy: 0.8066\n",
            "Epoch 59/100\n",
            "313/313 [==============================] - 14s 45ms/step - loss: 0.4080 - accuracy: 0.8151 - val_loss: 0.4275 - val_accuracy: 0.8022\n",
            "Epoch 60/100\n",
            "313/313 [==============================] - 14s 45ms/step - loss: 0.4083 - accuracy: 0.8160 - val_loss: 0.4268 - val_accuracy: 0.8040\n",
            "Epoch 61/100\n",
            "313/313 [==============================] - 14s 45ms/step - loss: 0.4087 - accuracy: 0.8140 - val_loss: 0.4254 - val_accuracy: 0.8066\n",
            "Epoch 62/100\n",
            "313/313 [==============================] - 14s 45ms/step - loss: 0.4063 - accuracy: 0.8146 - val_loss: 0.4262 - val_accuracy: 0.8072\n",
            "Epoch 63/100\n",
            "313/313 [==============================] - 14s 45ms/step - loss: 0.4077 - accuracy: 0.8138 - val_loss: 0.4254 - val_accuracy: 0.8038\n",
            "Epoch 64/100\n",
            "313/313 [==============================] - 14s 45ms/step - loss: 0.4071 - accuracy: 0.8139 - val_loss: 0.4281 - val_accuracy: 0.7992\n",
            "Epoch 65/100\n",
            "313/313 [==============================] - 14s 45ms/step - loss: 0.4060 - accuracy: 0.8151 - val_loss: 0.4252 - val_accuracy: 0.8032\n",
            "Epoch 66/100\n",
            "313/313 [==============================] - 14s 45ms/step - loss: 0.4060 - accuracy: 0.8163 - val_loss: 0.4253 - val_accuracy: 0.8068\n",
            "Epoch 67/100\n",
            "313/313 [==============================] - 14s 45ms/step - loss: 0.4058 - accuracy: 0.8161 - val_loss: 0.4263 - val_accuracy: 0.8022\n",
            "Epoch 68/100\n",
            "313/313 [==============================] - 14s 45ms/step - loss: 0.4050 - accuracy: 0.8163 - val_loss: 0.4239 - val_accuracy: 0.8090\n",
            "Epoch 69/100\n",
            "313/313 [==============================] - 14s 45ms/step - loss: 0.4036 - accuracy: 0.8167 - val_loss: 0.4273 - val_accuracy: 0.8078\n",
            "Epoch 70/100\n",
            "313/313 [==============================] - 14s 46ms/step - loss: 0.4047 - accuracy: 0.8156 - val_loss: 0.4269 - val_accuracy: 0.8078\n",
            "Epoch 71/100\n",
            "313/313 [==============================] - 14s 45ms/step - loss: 0.4022 - accuracy: 0.8144 - val_loss: 0.4238 - val_accuracy: 0.8058\n",
            "Epoch 72/100\n",
            "313/313 [==============================] - 14s 45ms/step - loss: 0.4031 - accuracy: 0.8176 - val_loss: 0.4245 - val_accuracy: 0.8078\n",
            "Epoch 73/100\n",
            "313/313 [==============================] - 14s 46ms/step - loss: 0.4046 - accuracy: 0.8166 - val_loss: 0.4236 - val_accuracy: 0.8068\n",
            "Epoch 74/100\n",
            "313/313 [==============================] - 14s 45ms/step - loss: 0.4043 - accuracy: 0.8152 - val_loss: 0.4238 - val_accuracy: 0.8066\n",
            "Epoch 75/100\n",
            "313/313 [==============================] - 14s 45ms/step - loss: 0.4026 - accuracy: 0.8164 - val_loss: 0.4228 - val_accuracy: 0.8066\n",
            "Epoch 76/100\n",
            "313/313 [==============================] - 14s 45ms/step - loss: 0.4022 - accuracy: 0.8163 - val_loss: 0.4223 - val_accuracy: 0.8064\n",
            "Epoch 77/100\n",
            "313/313 [==============================] - 14s 46ms/step - loss: 0.4009 - accuracy: 0.8180 - val_loss: 0.4245 - val_accuracy: 0.8036\n",
            "Epoch 78/100\n",
            "313/313 [==============================] - 14s 46ms/step - loss: 0.4006 - accuracy: 0.8194 - val_loss: 0.4220 - val_accuracy: 0.8052\n",
            "Epoch 79/100\n",
            "313/313 [==============================] - 14s 45ms/step - loss: 0.4013 - accuracy: 0.8176 - val_loss: 0.4236 - val_accuracy: 0.8076\n",
            "Epoch 80/100\n",
            "313/313 [==============================] - 14s 45ms/step - loss: 0.4001 - accuracy: 0.8192 - val_loss: 0.4278 - val_accuracy: 0.8094\n",
            "Epoch 81/100\n",
            "313/313 [==============================] - 15s 47ms/step - loss: 0.4004 - accuracy: 0.8186 - val_loss: 0.4242 - val_accuracy: 0.8050\n"
          ]
        }
      ]
    },
    {
      "cell_type": "code",
      "source": [
        "plt.plot(history.history['loss'])\n",
        "plt.plot(history.history['val_loss'])\n",
        "plt.xlabel('epoch')\n",
        "plt.ylabel('loss')\n",
        "plt.legend(['train', 'val'])\n",
        "plt.show()"
      ],
      "metadata": {
        "colab": {
          "base_uri": "https://localhost:8080/",
          "height": 279
        },
        "id": "amdD4mIHpfSY",
        "outputId": "57958fb7-01b9-4a9d-e90a-c020722f94bd"
      },
      "execution_count": null,
      "outputs": [
        {
          "output_type": "display_data",
          "data": {
            "image/png": "[encoded data removed]",
            "text/plain": [
              "<Figure size 432x288 with 1 Axes>"
            ]
          },
          "metadata": {
            "needs_background": "light"
          }
        }
      ]
    },
    {
      "cell_type": "code",
      "source": [
        "model3 = keras.Sequential()\n",
        "model3.add(keras.layers.Embedding(500, 16, input_length = 100))\n",
        "model3.add(keras.layers.LSTM(8, dropout = 0.3, return_sequences = True))\n",
        "model3.add(keras.layers.LSTM(8, dropout = 0.3))\n",
        "model3.add(keras.layers.Dense(1, activation = 'sigmoid'))"
      ],
      "metadata": {
        "id": "ZpSMFsfst8IE"
      },
      "execution_count": null,
      "outputs": []
    },
    {
      "cell_type": "code",
      "source": [
        "model3.summary()"
      ],
      "metadata": {
        "colab": {
          "base_uri": "https://localhost:8080/"
        },
        "id": "LFmirdM71Frv",
        "outputId": "6f0b8fe9-e60b-4ab9-82b0-a931c857e757"
      },
      "execution_count": null,
      "outputs": [
        {
          "output_type": "stream",
          "name": "stdout",
          "text": [
            "Model: \"sequential_5\"\n",
            "_________________________________________________________________\n",
            " Layer (type)                Output Shape              Param #   \n",
            "=================================================================\n",
            " embedding_4 (Embedding)     (None, 100, 16)           8000      \n",
            "                                                                 \n",
            " lstm_3 (LSTM)               (None, 100, 8)            800       \n",
            "                                                                 \n",
            " lstm_4 (LSTM)               (None, 8)                 544       \n",
            "                                                                 \n",
            " dense_4 (Dense)             (None, 1)                 9         \n",
            "                                                                 \n",
            "=================================================================\n",
            "Total params: 9,353\n",
            "Trainable params: 9,353\n",
            "Non-trainable params: 0\n",
            "_________________________________________________________________\n"
          ]
        }
      ]
    },
    {
      "cell_type": "code",
      "source": [
        "rmsprop = keras.optimizers.RMSprop(learning_rate = 1e-4)\n",
        "model3.compile(optimizer = rmsprop, loss = 'binary_crossentropy', metrics = ['accuracy'])\n",
        "checkpoint_cb = keras.callbacks.ModelCheckpoint('best-2rnn-model.h5', save_best_only = True)\n",
        "early_stopping_cb = keras.callbacks.EarlyStopping(patience = 3, restore_best_weights = True)\n",
        "history = model3.fit(train_seq, train_target, epochs = 100, batch_size = 64, validation_data = (val_seq, val_target), callbacks = [checkpoint_cb, early_stopping_cb])"
      ],
      "metadata": {
        "colab": {
          "base_uri": "https://localhost:8080/"
        },
        "id": "I-sdHDHC1Jim",
        "outputId": "05698ff8-bb1a-42e9-fa43-bf13880a7b3d"
      },
      "execution_count": null,
      "outputs": [
        {
          "output_type": "stream",
          "name": "stdout",
          "text": [
            "Epoch 1/100\n",
            "313/313 [==============================] - 33s 91ms/step - loss: 0.6907 - accuracy: 0.5597 - val_loss: 0.6858 - val_accuracy: 0.6172\n",
            "Epoch 2/100\n",
            "313/313 [==============================] - 27s 86ms/step - loss: 0.6637 - accuracy: 0.6446 - val_loss: 0.6229 - val_accuracy: 0.6854\n",
            "Epoch 3/100\n",
            "313/313 [==============================] - 28s 88ms/step - loss: 0.5926 - accuracy: 0.7070 - val_loss: 0.5665 - val_accuracy: 0.7176\n",
            "Epoch 4/100\n",
            "313/313 [==============================] - 28s 88ms/step - loss: 0.5545 - accuracy: 0.7316 - val_loss: 0.5371 - val_accuracy: 0.7392\n",
            "Epoch 5/100\n",
            "313/313 [==============================] - 27s 87ms/step - loss: 0.5285 - accuracy: 0.7488 - val_loss: 0.5113 - val_accuracy: 0.7606\n",
            "Epoch 6/100\n",
            "313/313 [==============================] - 27s 86ms/step - loss: 0.5105 - accuracy: 0.7599 - val_loss: 0.5021 - val_accuracy: 0.7638\n",
            "Epoch 7/100\n",
            "313/313 [==============================] - 27s 87ms/step - loss: 0.4932 - accuracy: 0.7691 - val_loss: 0.4842 - val_accuracy: 0.7776\n",
            "Epoch 8/100\n",
            "313/313 [==============================] - 27s 87ms/step - loss: 0.4828 - accuracy: 0.7764 - val_loss: 0.4749 - val_accuracy: 0.7818\n",
            "Epoch 9/100\n",
            "313/313 [==============================] - 27s 85ms/step - loss: 0.4762 - accuracy: 0.7786 - val_loss: 0.4707 - val_accuracy: 0.7858\n",
            "Epoch 10/100\n",
            "313/313 [==============================] - 27s 86ms/step - loss: 0.4675 - accuracy: 0.7829 - val_loss: 0.4718 - val_accuracy: 0.7814\n",
            "Epoch 11/100\n",
            "313/313 [==============================] - 27s 85ms/step - loss: 0.4640 - accuracy: 0.7857 - val_loss: 0.4589 - val_accuracy: 0.7892\n",
            "Epoch 12/100\n",
            "313/313 [==============================] - 26s 84ms/step - loss: 0.4551 - accuracy: 0.7908 - val_loss: 0.4554 - val_accuracy: 0.7890\n",
            "Epoch 13/100\n",
            "313/313 [==============================] - 26s 84ms/step - loss: 0.4544 - accuracy: 0.7896 - val_loss: 0.4526 - val_accuracy: 0.7910\n",
            "Epoch 14/100\n",
            "313/313 [==============================] - 26s 84ms/step - loss: 0.4474 - accuracy: 0.7950 - val_loss: 0.4503 - val_accuracy: 0.7950\n",
            "Epoch 15/100\n",
            "313/313 [==============================] - 26s 83ms/step - loss: 0.4469 - accuracy: 0.7951 - val_loss: 0.4478 - val_accuracy: 0.7924\n",
            "Epoch 16/100\n",
            "313/313 [==============================] - 26s 84ms/step - loss: 0.4440 - accuracy: 0.7958 - val_loss: 0.4463 - val_accuracy: 0.7948\n",
            "Epoch 17/100\n",
            "313/313 [==============================] - 27s 85ms/step - loss: 0.4420 - accuracy: 0.7952 - val_loss: 0.4489 - val_accuracy: 0.7944\n",
            "Epoch 18/100\n",
            "313/313 [==============================] - 27s 88ms/step - loss: 0.4406 - accuracy: 0.7972 - val_loss: 0.4432 - val_accuracy: 0.7946\n",
            "Epoch 19/100\n",
            "313/313 [==============================] - 27s 88ms/step - loss: 0.4403 - accuracy: 0.7951 - val_loss: 0.4424 - val_accuracy: 0.7936\n",
            "Epoch 20/100\n",
            "313/313 [==============================] - 31s 99ms/step - loss: 0.4369 - accuracy: 0.8011 - val_loss: 0.4427 - val_accuracy: 0.7892\n",
            "Epoch 21/100\n",
            "313/313 [==============================] - 28s 89ms/step - loss: 0.4342 - accuracy: 0.8003 - val_loss: 0.4447 - val_accuracy: 0.7950\n",
            "Epoch 22/100\n",
            "313/313 [==============================] - 27s 87ms/step - loss: 0.4320 - accuracy: 0.8016 - val_loss: 0.4445 - val_accuracy: 0.7954\n"
          ]
        }
      ]
    },
    {
      "cell_type": "code",
      "source": [
        "plt.plot(history.history['loss'])\n",
        "plt.plot(history.history['val_loss'])\n",
        "plt.xlabel('epoch')\n",
        "plt.ylabel('loss')\n",
        "plt.legend(['train', 'val'])\n",
        "plt.show()"
      ],
      "metadata": {
        "colab": {
          "base_uri": "https://localhost:8080/",
          "height": 281
        },
        "id": "_9ScI9Nt3Tda",
        "outputId": "800a597e-1cfd-4cbb-e221-591f76d4d383"
      },
      "execution_count": null,
      "outputs": [
        {
          "output_type": "display_data",
          "data": {
            "image/png": "[encoded data removed]",
            "text/plain": [
              "<Figure size 432x288 with 1 Axes>"
            ]
          },
          "metadata": {
            "needs_background": "light"
          }
        }
      ]
    },
    {
      "cell_type": "code",
      "source": [
        "model4 = keras.Sequential()\n",
        "model4.add(keras.layers.Embedding(500, 16, input_length = 100))\n",
        "model4.add(keras.layers.GRU(8))\n",
        "model4.add(keras.layers.Dense(1, activation = 'sigmoid'))"
      ],
      "metadata": {
        "id": "bzMlnCag4F2k"
      },
      "execution_count": null,
      "outputs": []
    },
    {
      "cell_type": "code",
      "source": [
        "rmsprop = keras.optimizers.RMSprop(learning_rate = 1e-4)\n",
        "model4.compile(optimizer = rmsprop, loss = 'binary_crossentropy', metrics = ['accuracy'])\n",
        "checkpoint_cb = keras.callbacks.ModelCheckpoint('best-gru-model.h5', save_best_only = True)\n",
        "early_stopping_cb = keras.callbacks.EarlyStopping(patience = 3, restore_best_weights = True)\n",
        "history = model4.fit(train_seq, train_target, epochs = 100, batch_size = 64, validation_data = (val_seq, val_target), callbacks = [checkpoint_cb, early_stopping_cb])"
      ],
      "metadata": {
        "colab": {
          "base_uri": "https://localhost:8080/"
        },
        "id": "Zs93McXj4N33",
        "outputId": "35fec86e-41ee-44f4-880b-9ac8d8e81c3b"
      },
      "execution_count": null,
      "outputs": [
        {
          "output_type": "stream",
          "name": "stdout",
          "text": [
            "Epoch 1/100\n",
            "313/313 [==============================] - 20s 56ms/step - loss: 0.6925 - accuracy: 0.5163 - val_loss: 0.6920 - val_accuracy: 0.5418\n",
            "Epoch 2/100\n",
            "313/313 [==============================] - 16s 50ms/step - loss: 0.6908 - accuracy: 0.5549 - val_loss: 0.6901 - val_accuracy: 0.5550\n",
            "Epoch 3/100\n",
            "313/313 [==============================] - 15s 48ms/step - loss: 0.6880 - accuracy: 0.5745 - val_loss: 0.6869 - val_accuracy: 0.5664\n",
            "Epoch 4/100\n",
            "313/313 [==============================] - 16s 50ms/step - loss: 0.6836 - accuracy: 0.5882 - val_loss: 0.6818 - val_accuracy: 0.5866\n",
            "Epoch 5/100\n",
            "313/313 [==============================] - 15s 48ms/step - loss: 0.6769 - accuracy: 0.6067 - val_loss: 0.6744 - val_accuracy: 0.6064\n",
            "Epoch 6/100\n",
            "313/313 [==============================] - 15s 48ms/step - loss: 0.6669 - accuracy: 0.6237 - val_loss: 0.6639 - val_accuracy: 0.6184\n",
            "Epoch 7/100\n",
            "313/313 [==============================] - 16s 50ms/step - loss: 0.6525 - accuracy: 0.6413 - val_loss: 0.6482 - val_accuracy: 0.6356\n",
            "Epoch 8/100\n",
            "313/313 [==============================] - 16s 50ms/step - loss: 0.6311 - accuracy: 0.6612 - val_loss: 0.6246 - val_accuracy: 0.6606\n",
            "Epoch 9/100\n",
            "313/313 [==============================] - 15s 49ms/step - loss: 0.5963 - accuracy: 0.6860 - val_loss: 0.5847 - val_accuracy: 0.7034\n",
            "Epoch 10/100\n",
            "313/313 [==============================] - 16s 50ms/step - loss: 0.5422 - accuracy: 0.7308 - val_loss: 0.5333 - val_accuracy: 0.7340\n",
            "Epoch 11/100\n",
            "313/313 [==============================] - 15s 49ms/step - loss: 0.5069 - accuracy: 0.7562 - val_loss: 0.5119 - val_accuracy: 0.7504\n",
            "Epoch 12/100\n",
            "313/313 [==============================] - 16s 50ms/step - loss: 0.4914 - accuracy: 0.7661 - val_loss: 0.4991 - val_accuracy: 0.7610\n",
            "Epoch 13/100\n",
            "313/313 [==============================] - 16s 50ms/step - loss: 0.4795 - accuracy: 0.7756 - val_loss: 0.4948 - val_accuracy: 0.7682\n",
            "Epoch 14/100\n",
            "313/313 [==============================] - 16s 51ms/step - loss: 0.4705 - accuracy: 0.7823 - val_loss: 0.4819 - val_accuracy: 0.7724\n",
            "Epoch 15/100\n",
            "313/313 [==============================] - 16s 50ms/step - loss: 0.4628 - accuracy: 0.7872 - val_loss: 0.4754 - val_accuracy: 0.7746\n",
            "Epoch 16/100\n",
            "313/313 [==============================] - 16s 51ms/step - loss: 0.4558 - accuracy: 0.7912 - val_loss: 0.4709 - val_accuracy: 0.7784\n",
            "Epoch 17/100\n",
            "313/313 [==============================] - 16s 50ms/step - loss: 0.4504 - accuracy: 0.7954 - val_loss: 0.4696 - val_accuracy: 0.7834\n",
            "Epoch 18/100\n",
            "313/313 [==============================] - 16s 50ms/step - loss: 0.4460 - accuracy: 0.7970 - val_loss: 0.4628 - val_accuracy: 0.7808\n",
            "Epoch 19/100\n",
            "313/313 [==============================] - 15s 49ms/step - loss: 0.4415 - accuracy: 0.8012 - val_loss: 0.4628 - val_accuracy: 0.7798\n",
            "Epoch 20/100\n",
            "313/313 [==============================] - 16s 51ms/step - loss: 0.4383 - accuracy: 0.8025 - val_loss: 0.4576 - val_accuracy: 0.7856\n",
            "Epoch 21/100\n",
            "313/313 [==============================] - 16s 50ms/step - loss: 0.4351 - accuracy: 0.8047 - val_loss: 0.4562 - val_accuracy: 0.7914\n",
            "Epoch 22/100\n",
            "313/313 [==============================] - 16s 51ms/step - loss: 0.4323 - accuracy: 0.8062 - val_loss: 0.4574 - val_accuracy: 0.7928\n",
            "Epoch 23/100\n",
            "313/313 [==============================] - 16s 51ms/step - loss: 0.4305 - accuracy: 0.8073 - val_loss: 0.4533 - val_accuracy: 0.7876\n",
            "Epoch 24/100\n",
            "313/313 [==============================] - 16s 53ms/step - loss: 0.4285 - accuracy: 0.8078 - val_loss: 0.4514 - val_accuracy: 0.7926\n",
            "Epoch 25/100\n",
            "313/313 [==============================] - 16s 50ms/step - loss: 0.4266 - accuracy: 0.8096 - val_loss: 0.4530 - val_accuracy: 0.7864\n",
            "Epoch 26/100\n",
            "313/313 [==============================] - 15s 49ms/step - loss: 0.4256 - accuracy: 0.8090 - val_loss: 0.4530 - val_accuracy: 0.7926\n",
            "Epoch 27/100\n",
            "313/313 [==============================] - 15s 49ms/step - loss: 0.4242 - accuracy: 0.8116 - val_loss: 0.4486 - val_accuracy: 0.7898\n",
            "Epoch 28/100\n",
            "313/313 [==============================] - 16s 50ms/step - loss: 0.4230 - accuracy: 0.8118 - val_loss: 0.4483 - val_accuracy: 0.7914\n",
            "Epoch 29/100\n",
            "313/313 [==============================] - 16s 50ms/step - loss: 0.4214 - accuracy: 0.8130 - val_loss: 0.4479 - val_accuracy: 0.7910\n",
            "Epoch 30/100\n",
            "313/313 [==============================] - 16s 50ms/step - loss: 0.4208 - accuracy: 0.8121 - val_loss: 0.4475 - val_accuracy: 0.7902\n",
            "Epoch 31/100\n",
            "313/313 [==============================] - 16s 51ms/step - loss: 0.4200 - accuracy: 0.8131 - val_loss: 0.4473 - val_accuracy: 0.7922\n",
            "Epoch 32/100\n",
            "313/313 [==============================] - 16s 50ms/step - loss: 0.4193 - accuracy: 0.8138 - val_loss: 0.4456 - val_accuracy: 0.7924\n",
            "Epoch 33/100\n",
            "313/313 [==============================] - 16s 50ms/step - loss: 0.4184 - accuracy: 0.8145 - val_loss: 0.4464 - val_accuracy: 0.7932\n",
            "Epoch 34/100\n",
            "313/313 [==============================] - 15s 49ms/step - loss: 0.4179 - accuracy: 0.8133 - val_loss: 0.4466 - val_accuracy: 0.7936\n",
            "Epoch 35/100\n",
            "313/313 [==============================] - 15s 49ms/step - loss: 0.4175 - accuracy: 0.8134 - val_loss: 0.4442 - val_accuracy: 0.7938\n",
            "Epoch 36/100\n",
            "313/313 [==============================] - 16s 51ms/step - loss: 0.4165 - accuracy: 0.8155 - val_loss: 0.4468 - val_accuracy: 0.7906\n",
            "Epoch 37/100\n",
            "313/313 [==============================] - 16s 50ms/step - loss: 0.4160 - accuracy: 0.8152 - val_loss: 0.4451 - val_accuracy: 0.7918\n",
            "Epoch 38/100\n",
            "313/313 [==============================] - 16s 51ms/step - loss: 0.4156 - accuracy: 0.8146 - val_loss: 0.4440 - val_accuracy: 0.7944\n",
            "Epoch 39/100\n",
            "313/313 [==============================] - 16s 50ms/step - loss: 0.4155 - accuracy: 0.8153 - val_loss: 0.4433 - val_accuracy: 0.7946\n",
            "Epoch 40/100\n",
            "313/313 [==============================] - 16s 51ms/step - loss: 0.4148 - accuracy: 0.8149 - val_loss: 0.4441 - val_accuracy: 0.7930\n",
            "Epoch 41/100\n",
            "313/313 [==============================] - 16s 51ms/step - loss: 0.4141 - accuracy: 0.8163 - val_loss: 0.4424 - val_accuracy: 0.7964\n",
            "Epoch 42/100\n",
            "313/313 [==============================] - 16s 51ms/step - loss: 0.4141 - accuracy: 0.8147 - val_loss: 0.4426 - val_accuracy: 0.7912\n",
            "Epoch 43/100\n",
            "313/313 [==============================] - 16s 53ms/step - loss: 0.4135 - accuracy: 0.8163 - val_loss: 0.4412 - val_accuracy: 0.7970\n",
            "Epoch 44/100\n",
            "313/313 [==============================] - 17s 53ms/step - loss: 0.4131 - accuracy: 0.8156 - val_loss: 0.4411 - val_accuracy: 0.7970\n",
            "Epoch 45/100\n",
            "313/313 [==============================] - 16s 51ms/step - loss: 0.4130 - accuracy: 0.8160 - val_loss: 0.4402 - val_accuracy: 0.7974\n",
            "Epoch 46/100\n",
            "313/313 [==============================] - 16s 50ms/step - loss: 0.4127 - accuracy: 0.8153 - val_loss: 0.4396 - val_accuracy: 0.7960\n",
            "Epoch 47/100\n",
            "313/313 [==============================] - 15s 49ms/step - loss: 0.4124 - accuracy: 0.8158 - val_loss: 0.4442 - val_accuracy: 0.7902\n",
            "Epoch 48/100\n",
            "313/313 [==============================] - 15s 49ms/step - loss: 0.4119 - accuracy: 0.8162 - val_loss: 0.4431 - val_accuracy: 0.7938\n",
            "Epoch 49/100\n",
            "313/313 [==============================] - 15s 48ms/step - loss: 0.4114 - accuracy: 0.8151 - val_loss: 0.4399 - val_accuracy: 0.7956\n"
          ]
        }
      ]
    },
    {
      "cell_type": "code",
      "source": [
        "plt.plot(history.history['loss'])\n",
        "plt.plot(history.history['val_loss'])\n",
        "plt.xlabel('epoch')\n",
        "plt.ylabel('loss')\n",
        "plt.legend(['train', 'val'])\n",
        "plt.show()"
      ],
      "metadata": {
        "colab": {
          "base_uri": "https://localhost:8080/",
          "height": 279
        },
        "id": "SzJEt8kg4S0H",
        "outputId": "d9273357-2967-4858-97b4-2791db137813"
      },
      "execution_count": null,
      "outputs": [
        {
          "output_type": "display_data",
          "data": {
            "image/png": "[encoded data removed]",
            "text/plain": [
              "<Figure size 432x288 with 1 Axes>"
            ]
          },
          "metadata": {
            "needs_background": "light"
          }
        }
      ]
    },
    {
      "cell_type": "code",
      "source": [
        "test_seq = pad_sequences(test_input, maxlen = 100)\n",
        "rnn_model = keras.models.load_model('best-2rnn-model.h5')\n",
        "rnn_model.evaluate(test_seq, test_target)"
      ],
      "metadata": {
        "colab": {
          "base_uri": "https://localhost:8080/"
        },
        "id": "K_3AtOnn7agH",
        "outputId": "adb94081-efa6-44aa-e387-aa3ed1715f37"
      },
      "execution_count": null,
      "outputs": [
        {
          "output_type": "stream",
          "name": "stdout",
          "text": [
            "782/782 [==============================] - 12s 15ms/step - loss: 0.4381 - accuracy: 0.7938\n"
          ]
        }
      ]
    }
  ]
}